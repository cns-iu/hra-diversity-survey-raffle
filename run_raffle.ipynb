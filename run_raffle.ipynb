{
 "cells": [
  {
   "cell_type": "markdown",
   "metadata": {},
   "source": [
    "# Script to find winners of raffle at random"
   ]
  },
  {
   "cell_type": "markdown",
   "metadata": {},
   "source": [
    "## Import statements"
   ]
  },
  {
   "cell_type": "code",
   "execution_count": 40,
   "metadata": {},
   "outputs": [],
   "source": [
    "import pandas as pd\n",
    "import random\n",
    "import time\n",
    "import datetime"
   ]
  },
  {
   "cell_type": "markdown",
   "metadata": {},
   "source": [
    "## Load and prepare data"
   ]
  },
  {
   "cell_type": "markdown",
   "metadata": {},
   "source": [
    "Note that `emails.csv` is in `*.gitignore` and is thus not shared."
   ]
  },
  {
   "cell_type": "code",
   "execution_count": 41,
   "metadata": {},
   "outputs": [],
   "source": [
    "# load email addresses and timestamps\n",
    "data = pd.read_csv(\"data/emails.csv\")\n",
    "\n",
    "# remove timestamps, keep emails\n",
    "emails = list(data.iloc[:,1])"
   ]
  },
  {
   "cell_type": "markdown",
   "metadata": {},
   "source": [
    "## Define countdown() function"
   ]
  },
  {
   "cell_type": "code",
   "execution_count": 42,
   "metadata": {},
   "outputs": [],
   "source": [
    "# Create function for countdown in seconds\n",
    "def countdown_in_seconds(s):\n",
    "  \"\"\"A function for a timer with s seconds\n",
    "\n",
    "  Args:\n",
    "      s (float): seconds at start\n",
    "  \"\"\"\n",
    "\n",
    "  print(\"Drum roll, please!\")\n",
    "  # While loop that checks if total_seconds reaches zero\n",
    "  # If not zero, decrement total time by one second\n",
    "  while s > 0:  \n",
    "      # Timer represents time left on countdown\n",
    "      timer = datetime.timedelta(seconds=s)\n",
    "\n",
    "      # Prints the time left on the timer\n",
    "      print(timer, end=\"\\r\")\n",
    "\n",
    "      # Delays the program one second\n",
    "      time.sleep(1)\n",
    "\n",
    "      # Reduces total time by one second\n",
    "      s -= 1\n",
    "\n",
    "  print(\"We have winners!\\n\")"
   ]
  },
  {
   "cell_type": "markdown",
   "metadata": {},
   "source": [
    "## Run randomizer to get three email addresses at random"
   ]
  },
  {
   "cell_type": "code",
   "execution_count": 43,
   "metadata": {},
   "outputs": [],
   "source": [
    "# set number of winners\n",
    "number_of_winners = 3\n",
    "\n",
    "# initialize empty list for winners\n",
    "winners = []\n",
    "\n",
    "# create copy of emails list to remove email addresses from\n",
    "emails_copy = emails.copy()\n",
    "\n",
    "# pick {number_of_winners} people from emails_copy at random\n",
    "for i in range(number_of_winners):\n",
    "  choice = random.choice(emails_copy)\n",
    "  \n",
    "  # remove the winner before next iteration so they cannot get picked twice\n",
    "  emails_copy.remove(choice)\n",
    "  \n",
    "  # append winner to {winners} list\n",
    "  winners.append(choice)"
   ]
  },
  {
   "cell_type": "markdown",
   "metadata": {},
   "source": [
    "## Announce winners after countdown"
   ]
  },
  {
   "cell_type": "code",
   "execution_count": null,
   "metadata": {},
   "outputs": [],
   "source": [
    "# set countdown\n",
    "seconds = 7\n",
    "\n",
    "#  start countdown\n",
    "countdown_in_seconds(seconds)\n",
    "\n",
    "# print result\n",
    "print(f'The winners are:')\n",
    "for winner in winners:\n",
    "  print(f'- {winner}')"
   ]
  }
 ],
 "metadata": {
  "kernelspec": {
   "display_name": "Python 3",
   "language": "python",
   "name": "python3"
  },
  "language_info": {
   "codemirror_mode": {
    "name": "ipython",
    "version": 3
   },
   "file_extension": ".py",
   "mimetype": "text/x-python",
   "name": "python",
   "nbconvert_exporter": "python",
   "pygments_lexer": "ipython3",
   "version": "3.12.2"
  }
 },
 "nbformat": 4,
 "nbformat_minor": 2
}
