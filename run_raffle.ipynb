{
 "cells": [
  {
   "cell_type": "markdown",
   "metadata": {},
   "source": [
    "# Script to find winners of raffle at random"
   ]
  },
  {
   "cell_type": "markdown",
   "metadata": {},
   "source": [
    "## Import statements"
   ]
  },
  {
   "cell_type": "code",
   "execution_count": 1,
   "metadata": {},
   "outputs": [],
   "source": [
    "import pandas as pd\n",
    "import random"
   ]
  },
  {
   "cell_type": "markdown",
   "metadata": {},
   "source": [
    "## Load and prepare data"
   ]
  },
  {
   "cell_type": "markdown",
   "metadata": {},
   "source": [
    "Note that `emails.csv` is in `*.gitignore` and is thus not shared."
   ]
  },
  {
   "cell_type": "code",
   "execution_count": 14,
   "metadata": {},
   "outputs": [],
   "source": [
    "# load email addresses and timestamps\n",
    "data = pd.read_csv(\"data/emails.csv\")\n",
    "\n",
    "# remove timestamps, keep emails\n",
    "emails = list(data.iloc[:,1])\n"
   ]
  },
  {
   "cell_type": "markdown",
   "metadata": {},
   "source": [
    "## Run randomizer to get three email addresses at random"
   ]
  },
  {
   "cell_type": "code",
   "execution_count": null,
   "metadata": {},
   "outputs": [],
   "source": [
    "# set number of winners\n",
    "number_of_winners = 3\n",
    "\n",
    "# initialize empty list for winners\n",
    "winners = []\n",
    "\n",
    "# create copy of emails list to remove email addresses from\n",
    "emails_copy = emails.copy()\n",
    "\n",
    "# pick {number_of_winners} people from emails_copy at random\n",
    "for i in range(number_of_winners):\n",
    "  choice = random.choice(emails_copy)\n",
    "  \n",
    "  # remove the winner before next iteration so they cannot get picked twice\n",
    "  emails_copy.remove(choice)\n",
    "  \n",
    "  # append winner to {winners} list\n",
    "  winners.append(choice)\n",
    "  \n",
    "\n",
    "# print resilt\n",
    "print(f'The winners are:')\n",
    "for winner in winners:\n",
    "  print(f'- {winner}') "
   ]
  }
 ],
 "metadata": {
  "kernelspec": {
   "display_name": "Python 3",
   "language": "python",
   "name": "python3"
  },
  "language_info": {
   "codemirror_mode": {
    "name": "ipython",
    "version": 3
   },
   "file_extension": ".py",
   "mimetype": "text/x-python",
   "name": "python",
   "nbconvert_exporter": "python",
   "pygments_lexer": "ipython3",
   "version": "3.12.2"
  }
 },
 "nbformat": 4,
 "nbformat_minor": 2
}
